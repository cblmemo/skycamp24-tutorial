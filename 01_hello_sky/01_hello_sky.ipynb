{
 "cells": [
  {
   "cell_type": "markdown",
   "metadata": {},
   "source": [
    "<p style=\"text-align:center;\">\n",
    "    <img src=\"https://raw.githubusercontent.com/skypilot-org/skypilot/master/docs/source/images/skypilot-wide-light-1k.png\" width=500>\n",
    "</p>"
   ]
  },
  {
   "cell_type": "markdown",
   "metadata": {
    "pycharm": {
     "name": "#%% md\n"
    }
   },
   "source": [
    "# Welcome to SkyPilot! 👋"
   ]
  },
  {
   "cell_type": "markdown",
   "metadata": {
    "pycharm": {
     "name": "#%% md\n"
    }
   },
   "source": [
    "SkyPilot is a framework for running LLMs, AI, and batch jobs on any cloud, offering maximum cost savings, highest GPU availability, managed execution, and multi-region serving.\n",
    "\n",
    "Use the clouds **easily** and **cost effectively**, without needing cloud infra expertise.\n",
    "\n",
    "_Ease of use_\n",
    "* **Run existing projects on the cloud** with zero code changes\n",
    "* Use a **unified interface** to run on any cloud, without vendor lock-in (currently AWS, Azure, GCP)\n",
    "* **Queue jobs** on one or multiple clusters\n",
    "* **Automatic failover** to find scarce resources (GPUs) across regions and clouds\n",
    "* **Use datasets on the cloud** like you would on a local file system\n",
    "* **One-click deployment** of models for inference\n",
    "\n",
    "_Cost saving_\n",
    "* Run jobs on **spot instances** with **automatic recovery** from preemptions\n",
    "* Run GenAI Serving on **spot instances** for high availability at low cost\n",
    "* Hands-free cluster management: **automatically stopping idle clusters**\n",
    "* One-click use of **GPUs**, for high-performance, cost-effective training\n",
    "* Automatically benchmark and find the cheapest hardware for your job"
   ]
  },
  {
   "cell_type": "markdown",
   "metadata": {},
   "source": [
    "# Learning outcomes 🎯\n",
    "\n",
    "After completing this notebook, you will be able to:\n",
    "\n",
    "1. Understand the basic SkyPilot YAML interface (`setup`, `run`).\n",
    "2. Run a hello world task on a cloud of your choice.\n",
    "3. SSH into your cluster for debugging and development.\n",
    "4. Terminate the cluster and understand the cluster lifecycle.\n",
    "5. Run your task seamlessly across different clouds."
   ]
  },
  {
   "cell_type": "markdown",
   "metadata": {},
   "source": [
    "# How to use this Tutorial"
   ]
  },
  {
   "cell_type": "markdown",
   "metadata": {},
   "source": [
    "These notebooks serve as an **interactive** introduction to SkyPilot.\n",
    "\n",
    "There are points in these notebooks where you may need to edit files outside the notebook and open a terminal to run some commands. These points will be highlighted with **two icons**:\n",
    "\n",
    "### <span style=\"color:green\">[DIY]</span> 📝 - Edit an external file\n",
    "\n",
    "> **💡 Hint** - Remember to save your file after making any changes!\n",
    "\n",
    "### <span style=\"color:green\">[DIY]</span> 💻 - Run commands in an interactive terminal window\n",
    "\n",
    "Use these icons as a hint to know when to switch away from the current notebook and edit a file or open a terminal.\n",
    "\n",
    "> **💡 Hint** - If you're using jupyter lab, you can create a terminal in your browser by going to `File -> New -> Terminal`"
   ]
  },
  {
   "cell_type": "markdown",
   "metadata": {},
   "source": [
    "# Preflight checks - verifying cloud credential setup"
   ]
  },
  {
   "cell_type": "markdown",
   "metadata": {},
   "source": [
    "Before we start this tutorial, let's run `sky check` to make sure your credentials are correctly setup.\n",
    "\n",
    "After running the below cell, you should have AWS and GCP clouds marked as `enabled`. \n",
    "\n",
    "> **💡 Hint** - If you don't see any clouds enabled, please refer to the [SkyPilot docs](https://skypilot.readthedocs.io/en/latest/getting-started/installation.html#cloud-account-setup) on how to setup your cloud accounts.\n",
    "\n",
    "> **💡 Hint** - SkyPilot also supports Azure, Lambda, RunPod and ~12s of public cloud! Though it is not used in this tutorial, please check out our [docs](https://skypilot.readthedocs.io/en/latest/getting-started/installation.html#cloud-account-setup) on how to setup other cloud account."
   ]
  },
  {
   "cell_type": "code",
   "execution_count": null,
   "metadata": {},
   "outputs": [],
   "source": [
    "# Run this cell to check if your cloud accounts are setup to work with SkyPilot\n",
    "! sky check"
   ]
  },
  {
   "cell_type": "markdown",
   "metadata": {},
   "source": [
    "# Writing your first SkyPilot Task"
   ]
  },
  {
   "cell_type": "markdown",
   "metadata": {},
   "source": [
    "A **task** in SkyPilot specifies the command that must be run on the cloud, along with the resources required (e.g. GPUs, TPUs, number of nodes) and any dependencies (e.g., files, packages and libraries).\n",
    "\n",
    "Tasks in SkyPilot are defined as YAML files. Here is an example:\n",
    "\n",
    "-----------------------------------\n",
    "```yaml\n",
    "# example.yaml\n",
    "name: example\n",
    "\n",
    "setup: |\n",
    "  echo \"Run any setup commands here\"\n",
    "  pip install cowsay\n",
    "\n",
    "run: |\n",
    "  echo \"Hello Stranger!\"\n",
    "  cowsay -t \"Moo! SkyPilot!\"\n",
    "```\n",
    "----------------------------------- \n",
    "\n",
    "This defines a task with the following components:\n",
    "\n",
    "* **setup**: commands that must be run before the task is executed. Here we install any dependencies for the task.\n",
    "\n",
    "* **run**: commands that run the actual task."
   ]
  },
  {
   "cell_type": "markdown",
   "metadata": {},
   "source": [
    "# Launching your first SkyPilot Task with `sky launch`"
   ]
  },
  {
   "cell_type": "markdown",
   "metadata": {},
   "source": [
    "Once your task YAML is ready, you can run it on the cloud with `sky launch`."
   ]
  },
  {
   "cell_type": "markdown",
   "metadata": {},
   "source": [
    "## <span style=\"color:green\">[DIY]</span> 💻 Launch your Sky Task!\n",
    "\n",
    "**In a terminal window, run:**\n",
    "\n",
    "-------------------------\n",
    "```console\n",
    "sky launch example.yaml -c hello-sky\n",
    "```\n",
    "-------------------------\n",
    "\n",
    "This will take about a minute to run.\n",
    "\n",
    "> **💡 Hint** - If you're using jupyter lab, you can create a terminal in your browser by going to `File -> New -> Terminal`\n",
    "\n",
    "You'll notice that SkyPilot will perform multiple actions for you:\n",
    "#### **1. Find the lowest priced VM instance type across different clouds**\n",
    "\n",
    "SkyPilot will run its optimizer and present you with the cheapest VM type that fits your resource demand.\n",
    "\n",
    "```console\n",
    "(base) root@b42d8750f97a:/skycamp-tutorial/01_hello_sky# sky launch example.yaml -c hello-sky\n",
    "Task from YAML spec: example.yaml\n",
    "Considered resources (1 node):\n",
    "--------------------------------------------------------------------------------------------------------------------------------------------------\n",
    " CLOUD        INSTANCE        vCPUs   Mem(GB)   ACCELERATORS   REGION/ZONE                                                    COST ($)   CHOSEN   \n",
    "--------------------------------------------------------------------------------------------------------------------------------------------------\n",
    " Kubernetes   2CPU--2GB       2       2         -              gke_skycamp-skypilot-fastchat_us-central1-c_skycamp-gke-test   0.00          ✔     \n",
    " GCP          n2-standard-8   8       32        -              us-central1-a                                                  0.39                \n",
    "--------------------------------------------------------------------------------------------------------------------------------------------------\n",
    "Launching a new cluster 'hello-sky'. Proceed? [Y/n]:\n",
    "```\n",
    "\n",
    "#### **2. Provision the cluster**\n",
    "\n",
    "SkyPilot will setup a cluster with the requested resources and setup a SSH profile for it.\n",
    "\n",
    "\n",
    "#### **3. Run the task's `setup` commands to prepare the cluster for running the task**\n",
    "\n",
    "SkyPilot will run any commands specified in the `setup` field in the YAML on the VMs in the cluster. In this case, it will install the `cowsay` package.\n",
    "\n",
    "\n",
    "#### **4. Run the task's `run` commands**\n",
    "\n",
    "Finally, SkyPilot will run the commands specified in the `run` field. These commands can use any dependencies installed in the `setup` phase.\n",
    "\n",
    "```console\n",
    "(example, pid=1487) Hello SkyPilot!\n",
    "(example, pid=1487)   ______________\n",
    "(example, pid=1487) | Moo! SkyPilot! |\n",
    "(example, pid=1487)   ==============\n",
    "(example, pid=1487)               \\\n",
    "(example, pid=1487)                \\\n",
    "(example, pid=1487)                  ^__^\n",
    "(example, pid=1487)                  (oo)\\_______\n",
    "(example, pid=1487)                  (__)\\       )\\/\\\n",
    "(example, pid=1487)                      ||----w |\n",
    "(example, pid=1487)                      ||     ||\n",
    "✓ Job finished (status: SUCCEEDED).\n",
    "```"
   ]
  },
  {
   "cell_type": "markdown",
   "metadata": {},
   "source": [
    "# Tasks and Clusters in SkyPilot"
   ]
  },
  {
   "cell_type": "markdown",
   "metadata": {},
   "source": [
    "**Tasks** in SkyPilot are executed on **clusters**. A **cluster** is a collection of nodes on a cloud.\n",
    "\n",
    "When you run a task with `sky launch`, SkyPilot creates a new cluster with a random name if an existing cluster is not specified.\n",
    "\n",
    "> **💡 Hint** - When running `sky launch`, you can give the cluster a name with the `-c` flag. E.g. `sky launch -c mycluster example.yaml` would launch a cluster with the name `mycluster`. If the cluster name already exists, then SkyPilot will try to reuse the cluster by re-running the `setup` commands on the cluster.\n",
    "\n",
    "You can see a table of your clusters with the command `sky status`."
   ]
  },
  {
   "cell_type": "markdown",
   "metadata": {},
   "source": [
    "## <span style=\"color:green\">[DIY]</span> 💻 Checking your cluster status with `sky status`\n",
    "\n",
    "**In a terminal window, run:**\n",
    "\n",
    "\n",
    "-------------------------\n",
    "```console\n",
    "sky status\n",
    "```\n",
    "-------------------------\n",
    "\n",
    "### Expected output\n",
    "-------------------------\n",
    "```console\n",
    "(base) root@b42d8750f97a:/skycamp-tutorial/01_hello_sky# sky status\n",
    "Clusters\n",
    "NAME       LAUNCHED   RESOURCES                 STATUS  AUTOSTOP  COMMAND                        \n",
    "hello-sky  1 min ago  1x Kubernetes(2CPU--2GB)  UP      -         sky launch example.yaml -c...  \n",
    "\n",
    "Managed jobs\n",
    "No in-progress managed jobs. (See: sky jobs -h)\n",
    "\n",
    "Services\n",
    "No live services. (See: sky serve -h)\n",
    "```\n",
    "-------------------------"
   ]
  },
  {
   "cell_type": "markdown",
   "metadata": {},
   "source": [
    "We can see that the `sky launch` in the previous cells created a cluster with the name `sky-78b8-root`."
   ]
  },
  {
   "cell_type": "markdown",
   "metadata": {},
   "source": [
    "## <span style=\"color:green\">[DIY]</span> 💻 SSH into the cluster!"
   ]
  },
  {
   "cell_type": "markdown",
   "metadata": {},
   "source": [
    "For debugging and development, you can easily SSH into a SkyPilot cluster with the `ssh` utility. \n",
    "\n",
    "**In a terminal window, run:**\n",
    "\n",
    "-------------------------\n",
    "```console\n",
    "ssh hello-sky\n",
    "```\n",
    "-------------------------"
   ]
  },
  {
   "cell_type": "markdown",
   "metadata": {},
   "source": [
    "### Expected output\n",
    "\n",
    "This will drop you into an interactive terminal inside your cluster:\n",
    "\n",
    "-------------------------\n",
    "```console\n",
    "(base) root@b42d8750f97a:/skycamp-tutorial/01_hello_sky# ssh hello-sky\n",
    "Warning: Permanently added '127.0.0.1' (ECDSA) to the list of known hosts.\n",
    "Warning: Permanently added '10.12.0.13' (ECDSA) to the list of known hosts.\n",
    "Linux hello-sky-3851-head 6.1.100+ #1 SMP PREEMPT_DYNAMIC Sat Aug 24 16:19:44 UTC 2024 x86_64\n",
    "\n",
    "The programs included with the Debian GNU/Linux system are free software;\n",
    "the exact distribution terms for each program are described in the\n",
    "individual files in /usr/share/doc/*/copyright.\n",
    "\n",
    "Debian GNU/Linux comes with ABSOLUTELY NO WARRANTY, to the extent\n",
    "permitted by applicable law.\n",
    "(base) sky@hello-sky-3851-head:~$ hostname\n",
    "hello-sky-3851-head\n",
    "```\n",
    "-------------------------\n",
    "\n",
    "You can use `ctrl+d` to exit from the SSH session.\n",
    "\n",
    "> **💡 Hint** - To enable the SSH functionality, SkyPilot adds the remote cluster to your `~/.ssh/config`. This means you can use the cluster name alias with other ssh tools, such as `scp`, `rsync`, VSCode and more!"
   ]
  },
  {
   "cell_type": "markdown",
   "metadata": {},
   "source": [
    "# Cluster lifecycle management"
   ]
  },
  {
   "cell_type": "markdown",
   "metadata": {},
   "source": [
    "SkyPilot clusters can exist in four states, each of which has different billing and storage implications:\n",
    "\n",
    "* **`INIT`** - Cluster is initializing.\n",
    "* **`UP`** - Cluster is up and running, you will be billed for the instance and the attached storages.\n",
    "* **`STOPPED`** - Cluster nodes are shut down and their disks are suspended. Your data and node state is safe and the cluster can be restored to running state when required. You will be billed only for the storage.\n",
    "* **`TERMINATED`** - Cluster is terminated and all nodes and their attached disks are deleted. These clusters cannot be restarted and will not be shown in `sky status`.\n",
    "\n",
    "To manage these states, SkyPilot offers several useful commands:\n",
    "\n",
    "1. **`sky stop`** - stops a `UP` cluster.\n",
    "2. **`sky start`** - starts a `STOPPED` cluster.\n",
    "2. **`sky down`** - terminates a `UP` or `STOPPED` cluster.\n",
    "2. **`sky autostop`** - sets a cluster to automatically stop after a period of inactivity.\n",
    "\n",
    "> **💡 Hint** - `sky stop` and `sky start` are useful when you want to suspend your experiments for a while but want to quickly resume later. `sky down` is useful to delete a cluster and restart a job from scratch."
   ]
  },
  {
   "cell_type": "markdown",
   "metadata": {},
   "source": [
    "## <span style=\"color:green\">[DIY]</span> 💻 Terminate your cluster!\n",
    "Now that we are done using the cluster, let's terminate it to stop being billed for it. You can use `sky down` to terminate a cluster.\n",
    "\n",
    "**Run `sky down` to terminate the cluster**\n",
    "\n",
    "-------------------------\n",
    "```console\n",
    "sky down hello-sky\n",
    "```\n",
    "-------------------------\n",
    "\n"
   ]
  },
  {
   "cell_type": "markdown",
   "metadata": {},
   "source": [
    "### Expected output\n",
    "\n",
    "-------------------------\n",
    "```console\n",
    "(base) root@b42d8750f97a:/skycamp-tutorial/01_hello_sky# sky down hello-sky\n",
    "Terminating 1 cluster: hello-sky. Proceed? [Y/n]: Y\n",
    "Terminating cluster hello-sky...done.\n",
    "Terminating 1 cluster ━━━━━━━━━━━━━━━━━━━━━━━━━━━━━━━━━━━━━━━━ 100% 0:00:00\n",
    "```\n",
    "-------------------------"
   ]
  },
  {
   "cell_type": "markdown",
   "metadata": {},
   "source": [
    "#### 🎉 Congratulations! You have used SkyPilot to seamlessly run tasks on the cloud! Please proceed to the next notebook to learn how to use accelerators and object stores in SkyPilot.\n"
   ]
  }
 ],
 "metadata": {
  "kernelspec": {
   "display_name": "Python 3",
   "language": "python",
   "name": "python3"
  },
  "language_info": {
   "codemirror_mode": {
    "name": "ipython",
    "version": 3
   },
   "file_extension": ".py",
   "mimetype": "text/x-python",
   "name": "python",
   "nbconvert_exporter": "python",
   "pygments_lexer": "ipython3",
   "version": "3.7.4"
  }
 },
 "nbformat": 4,
 "nbformat_minor": 4
}
